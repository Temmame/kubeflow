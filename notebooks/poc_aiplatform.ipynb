{
 "cells": [
  {
   "cell_type": "code",
   "execution_count": null,
   "metadata": {},
   "outputs": [],
   "source": [
    "!gcloud services enable ml.googleapis.com\n",
    "!gcloud services enable compute.googleapis.com"
   ]
  },
  {
   "cell_type": "markdown",
   "metadata": {},
   "source": [
    "### Create the bucket \n",
    "\n",
    "Create it from User interface or from here by running cells below (if not exists)"
   ]
  },
  {
   "cell_type": "code",
   "execution_count": null,
   "metadata": {},
   "outputs": [],
   "source": [
    "BUCKET_NAME = 'ribtdap-ds-aiplatform'\n",
    "VERSION = 'v1'"
   ]
  },
  {
   "cell_type": "code",
   "execution_count": null,
   "metadata": {},
   "outputs": [],
   "source": [
    "!gsutil mb gs://$BUCKET_NAME/"
   ]
  },
  {
   "cell_type": "markdown",
   "metadata": {},
   "source": [
    "### Create temporary local folder"
   ]
  },
  {
   "cell_type": "code",
   "execution_count": null,
   "metadata": {},
   "outputs": [],
   "source": [
    "!mkdir $VERSION"
   ]
  },
  {
   "cell_type": "markdown",
   "metadata": {},
   "source": [
    "### Create model "
   ]
  },
  {
   "cell_type": "code",
   "execution_count": null,
   "metadata": {},
   "outputs": [],
   "source": [
    "import argparse\n",
    "import pickle\n",
    "import pandas as pd\n",
    "from sklearn.linear_model import LinearRegression as LR\n",
    "\n",
    "from google.cloud import bigquery\n",
    "from google.cloud import storage\n",
    "\n",
    "# bigquery\n",
    "client = bigquery.Client()\n",
    "\n",
    "# Perform a query.\n",
    "QUERY = (\n",
    "    \"\"\"\n",
    "    SELECT passenger_count, trip_distance , fare_amount as label\n",
    "    FROM `nyc-tlc.yellow.trips`\n",
    "    WHERE trip_distance > 0 AND fare_amount > 0\n",
    "    ORDER BY rand()\n",
    "    LIMIT 1000\n",
    "    \"\"\"\n",
    "    )\n",
    "query_job = client.query(QUERY)  # API request\n",
    "df = query_job.result().to_dataframe()\n",
    "\n",
    "# save file locally\n",
    "df.to_csv(VERSION+'/data.csv')\n",
    "\n",
    "# preprocess\n",
    "df = df.fillna(0)\n",
    "\n",
    "# split\n",
    "TRAINING_SPLIT = 0.8\n",
    "df_train = df.loc[:int(TRAINING_SPLIT * len(df)), :]\n",
    "df_test = df.loc[int(TRAINING_SPLIT * len(df)):, :]\n",
    "\n",
    "# save files locally\n",
    "df_train.to_csv(VERSION+'/data_train.csv')\n",
    "df_test.to_csv(VERSION+'/data_test.csv')\n",
    "\n",
    "# train model\n",
    "lr = LR()\n",
    "X = df_train.drop(['label'], axis=1)\n",
    "Y = df_train['label']\n",
    "lr.fit(X, Y)\n",
    "\n",
    "# save model\n",
    "with open(VERSION+'/model.pkl', 'wb') as model_file:\n",
    "    pickle.dump(lr, model_file)\n",
    "\n",
    "\n",
    "# if we want to save a single file in gcs\n",
    "#gcs = storage.Client()\n",
    "#gcs.get_bucket(BUCKET_NAME).blob('model.pkl').upload_from_filename('model.pkl')"
   ]
  },
  {
   "cell_type": "code",
   "execution_count": null,
   "metadata": {},
   "outputs": [],
   "source": [
    "# save notebook in local folder\n",
    "!cp poc_cloudrun.ipynb $VERSION\n",
    "\n",
    "# Copy all the local folder in GCS\n",
    "!gsutil cp -r $VERSION gs://$BUCKET_NAME"
   ]
  },
  {
   "cell_type": "markdown",
   "metadata": {},
   "source": [
    "### Verify files in Cloud Storage"
   ]
  },
  {
   "cell_type": "code",
   "execution_count": null,
   "metadata": {},
   "outputs": [],
   "source": [
    "!gsutil ls gs://$BUCKET_NAME/$VERSION/"
   ]
  },
  {
   "cell_type": "markdown",
   "metadata": {},
   "source": [
    "### Serve the model"
   ]
  },
  {
   "cell_type": "code",
   "execution_count": null,
   "metadata": {},
   "outputs": [],
   "source": [
    "MODEL_NAME = \"model_aiplatform\"\n",
    "MODEL_VERSION = MODEL_NAME + \"_v1\""
   ]
  },
  {
   "cell_type": "code",
   "execution_count": null,
   "metadata": {},
   "outputs": [],
   "source": [
    "!gcloud ai-platform models create $MODEL_NAME --regions europe-west1"
   ]
  },
  {
   "cell_type": "markdown",
   "metadata": {},
   "source": [
    "Create a version that points to your model file in Cloud Storage:"
   ]
  },
  {
   "cell_type": "code",
   "execution_count": null,
   "metadata": {},
   "outputs": [],
   "source": [
    "!gcloud ai-platform versions create $MODEL_VERSION \\\n",
    "  --model=$MODEL_NAME \\\n",
    "  --framework=scikit-learn \\\n",
    "  --origin=gs://$BUCKET_NAME/$VERSION/ \\\n",
    "  --python-version=3.7 \\\n",
    "  --runtime-version=2.1"
   ]
  },
  {
   "cell_type": "markdown",
   "metadata": {},
   "source": [
    "### Make predictions\n",
    "\n",
    "Check README file."
   ]
  },
  {
   "cell_type": "markdown",
   "metadata": {},
   "source": [
    "### Clean up"
   ]
  },
  {
   "cell_type": "markdown",
   "metadata": {},
   "source": [
    "To delete all resources you created in this tutorial, run the following commands:"
   ]
  },
  {
   "cell_type": "code",
   "execution_count": null,
   "metadata": {},
   "outputs": [],
   "source": [
    "# Delete local folder\n",
    "!rm -r $VERSION"
   ]
  },
  {
   "cell_type": "code",
   "execution_count": null,
   "metadata": {
    "scrolled": true
   },
   "outputs": [],
   "source": [
    "# Delete the model version\n",
    "!gcloud ai-platform versions delete $MODEL_VERSION --model=$MODEL_NAME --quiet\n",
    "\n",
    "# Delete the model\n",
    "!gcloud ai-platform models delete $MODEL_NAME --quiet"
   ]
  }
 ],
 "metadata": {
  "environment": {
   "name": "common-cpu.m59",
   "type": "gcloud",
   "uri": "gcr.io/deeplearning-platform-release/base-cpu:m59"
  },
  "kernelspec": {
   "display_name": "Python 3",
   "language": "python",
   "name": "python3"
  },
  "language_info": {
   "codemirror_mode": {
    "name": "ipython",
    "version": 3
   },
   "file_extension": ".py",
   "mimetype": "text/x-python",
   "name": "python",
   "nbconvert_exporter": "python",
   "pygments_lexer": "ipython3",
   "version": "3.7.8"
  }
 },
 "nbformat": 4,
 "nbformat_minor": 4
}
